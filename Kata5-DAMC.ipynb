{
 "cells": [
  {
   "cell_type": "code",
   "execution_count": 10,
   "metadata": {},
   "outputs": [
    {
     "name": "stdout",
     "output_type": "stream",
     "text": [
      "628949330\n",
      "390577533.93\n"
     ]
    }
   ],
   "source": [
    "Tierra = 149597870\n",
    "Jupiter = 778547200\n",
    "distancia = Jupiter - Tierra\n",
    "distancia1 = distancia * 0.621\n",
    "print(distancia)\n",
    "print(distancia1)"
   ]
  },
  {
   "cell_type": "code",
   "execution_count": 11,
   "metadata": {},
   "outputs": [
    {
     "name": "stdout",
     "output_type": "stream",
     "text": [
      "70\n",
      "43.47\n"
     ]
    }
   ],
   "source": [
    "Entrada1 = input(\"Introduzca distancia al sol para el primer planeta\")\n",
    "Entrada2 = input(\"Introduzca distancia al sol para el segundo planeta\")\n",
    "Entrada1 = int(Entrada1)\n",
    "Entrada2 = int(Entrada2)\n",
    "distancia = Entrada2 - Entrada1\n",
    "print(distancia)\n",
    "distancia_m = distancia * 0.621\n",
    "print (abs(distancia_m))"
   ]
  }
 ],
 "metadata": {
  "interpreter": {
   "hash": "947d89d1fc1c1616ea1625fca1734680118b84ee289b5d1307c71a7ba746c7f1"
  },
  "kernelspec": {
   "display_name": "Python 3.10.2 64-bit",
   "language": "python",
   "name": "python3"
  },
  "language_info": {
   "codemirror_mode": {
    "name": "ipython",
    "version": 3
   },
   "file_extension": ".py",
   "mimetype": "text/x-python",
   "name": "python",
   "nbconvert_exporter": "python",
   "pygments_lexer": "ipython3",
   "version": "3.10.2"
  },
  "orig_nbformat": 4
 },
 "nbformat": 4,
 "nbformat_minor": 2
}
